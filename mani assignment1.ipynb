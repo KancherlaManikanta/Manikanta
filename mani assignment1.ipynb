{
 "cells": [
  {
   "cell_type": "markdown",
   "id": "bb223aef",
   "metadata": {},
   "source": [
    "# Task 1"
   ]
  },
  {
   "cell_type": "markdown",
   "id": "a1ee794f",
   "metadata": {},
   "source": [
    "### 1) Write a program to get the data type of a data"
   ]
  },
  {
   "cell_type": "code",
   "execution_count": 1,
   "id": "2c2d3350",
   "metadata": {},
   "outputs": [
    {
     "data": {
      "text/plain": [
       "float"
      ]
     },
     "execution_count": 1,
     "metadata": {},
     "output_type": "execute_result"
    }
   ],
   "source": [
    "a=10.2\n",
    "type(a)"
   ]
  },
  {
   "cell_type": "markdown",
   "id": "df059c9d",
   "metadata": {},
   "source": [
    "### 2) Write a program to convert a integer data type to float data type"
   ]
  },
  {
   "cell_type": "code",
   "execution_count": 2,
   "id": "cecab610",
   "metadata": {},
   "outputs": [
    {
     "data": {
      "text/plain": [
       "10"
      ]
     },
     "execution_count": 2,
     "metadata": {},
     "output_type": "execute_result"
    }
   ],
   "source": [
    "num=10\n",
    "num"
   ]
  },
  {
   "cell_type": "markdown",
   "id": "cd0818d2",
   "metadata": {},
   "source": [
    "### 3) Write a program to convert a integer data type to float data type and vice versa"
   ]
  },
  {
   "cell_type": "code",
   "execution_count": 3,
   "id": "765d3f19",
   "metadata": {},
   "outputs": [
    {
     "data": {
      "text/plain": [
       "20"
      ]
     },
     "execution_count": 3,
     "metadata": {},
     "output_type": "execute_result"
    }
   ],
   "source": [
    "a=20\n",
    "a"
   ]
  },
  {
   "cell_type": "code",
   "execution_count": 4,
   "id": "75d29830",
   "metadata": {},
   "outputs": [
    {
     "data": {
      "text/plain": [
       "20.0"
      ]
     },
     "execution_count": 4,
     "metadata": {},
     "output_type": "execute_result"
    }
   ],
   "source": [
    "k=float(a)\n",
    "k"
   ]
  },
  {
   "cell_type": "markdown",
   "id": "4e2443ef",
   "metadata": {},
   "source": [
    "### 4) Write a programme to get the actual location of the data"
   ]
  },
  {
   "cell_type": "code",
   "execution_count": 5,
   "id": "f0b59e61",
   "metadata": {},
   "outputs": [
    {
     "data": {
      "text/plain": [
       "10"
      ]
     },
     "execution_count": 5,
     "metadata": {},
     "output_type": "execute_result"
    }
   ],
   "source": [
    "a=10\n",
    "a"
   ]
  },
  {
   "cell_type": "code",
   "execution_count": 6,
   "id": "76d5c15a",
   "metadata": {},
   "outputs": [
    {
     "data": {
      "text/plain": [
       "2310852274768"
      ]
     },
     "execution_count": 6,
     "metadata": {},
     "output_type": "execute_result"
    }
   ],
   "source": [
    "id(a)"
   ]
  },
  {
   "cell_type": "markdown",
   "id": "0aa86b32",
   "metadata": {},
   "source": [
    "### 5) Give an example of implict conversion and explict conversion "
   ]
  },
  {
   "cell_type": "code",
   "execution_count": null,
   "id": "8e84818d",
   "metadata": {},
   "outputs": [],
   "source": [
    "#implicit"
   ]
  },
  {
   "cell_type": "code",
   "execution_count": 8,
   "id": "5bcfbfab",
   "metadata": {},
   "outputs": [
    {
     "data": {
      "text/plain": [
       "2"
      ]
     },
     "execution_count": 8,
     "metadata": {},
     "output_type": "execute_result"
    }
   ],
   "source": [
    "s=1\n",
    "r=1.1\n",
    "z=1\n",
    "s+z"
   ]
  },
  {
   "cell_type": "markdown",
   "id": "cccfd0ac",
   "metadata": {},
   "source": [
    "### 6) Write a programme to prove that python is a case senstive language"
   ]
  },
  {
   "cell_type": "code",
   "execution_count": 9,
   "id": "8e939e56",
   "metadata": {},
   "outputs": [
    {
     "ename": "NameError",
     "evalue": "name 'var1' is not defined",
     "output_type": "error",
     "traceback": [
      "\u001b[1;31m---------------------------------------------------------------------------\u001b[0m",
      "\u001b[1;31mNameError\u001b[0m                                 Traceback (most recent call last)",
      "Input \u001b[1;32mIn [9]\u001b[0m, in \u001b[0;36m<cell line: 2>\u001b[1;34m()\u001b[0m\n\u001b[0;32m      1\u001b[0m VAR1\u001b[38;5;241m=\u001b[39m\u001b[38;5;241m20\u001b[39m\n\u001b[1;32m----> 2\u001b[0m \u001b[43mvar1\u001b[49m\n",
      "\u001b[1;31mNameError\u001b[0m: name 'var1' is not defined"
     ]
    }
   ],
   "source": [
    "VAR1=20\n",
    "var1"
   ]
  },
  {
   "cell_type": "markdown",
   "id": "b7240bca",
   "metadata": {},
   "source": [
    "### 7) Write a programme to get a syntax error"
   ]
  },
  {
   "cell_type": "code",
   "execution_count": 10,
   "id": "e0e2feb3",
   "metadata": {},
   "outputs": [
    {
     "ename": "SyntaxError",
     "evalue": "invalid syntax (1356092111.py, line 1)",
     "output_type": "error",
     "traceback": [
      "\u001b[1;36m  Input \u001b[1;32mIn [10]\u001b[1;36m\u001b[0m\n\u001b[1;33m    2/\u001b[0m\n\u001b[1;37m      ^\u001b[0m\n\u001b[1;31mSyntaxError\u001b[0m\u001b[1;31m:\u001b[0m invalid syntax\n"
     ]
    }
   ],
   "source": [
    "2/\n",
    "+/\n",
    "2"
   ]
  },
  {
   "cell_type": "markdown",
   "id": "476a42dc",
   "metadata": {},
   "source": [
    "### 8) Write a programme to get a type error"
   ]
  },
  {
   "cell_type": "code",
   "execution_count": 11,
   "id": "05c3a03c",
   "metadata": {},
   "outputs": [
    {
     "data": {
      "text/plain": [
       "'1+2j'"
      ]
     },
     "execution_count": 11,
     "metadata": {},
     "output_type": "execute_result"
    }
   ],
   "source": [
    "l=\"1+2j\"\n",
    "l"
   ]
  },
  {
   "cell_type": "code",
   "execution_count": 12,
   "id": "79feac20",
   "metadata": {},
   "outputs": [
    {
     "ename": "ValueError",
     "evalue": "could not convert string to float: '1+2j'",
     "output_type": "error",
     "traceback": [
      "\u001b[1;31m---------------------------------------------------------------------------\u001b[0m",
      "\u001b[1;31mValueError\u001b[0m                                Traceback (most recent call last)",
      "Input \u001b[1;32mIn [12]\u001b[0m, in \u001b[0;36m<cell line: 1>\u001b[1;34m()\u001b[0m\n\u001b[1;32m----> 1\u001b[0m n\u001b[38;5;241m=\u001b[39m\u001b[38;5;28;43mfloat\u001b[39;49m\u001b[43m(\u001b[49m\u001b[43ml\u001b[49m\u001b[43m)\u001b[49m\n\u001b[0;32m      2\u001b[0m n\n",
      "\u001b[1;31mValueError\u001b[0m: could not convert string to float: '1+2j'"
     ]
    }
   ],
   "source": [
    "n=float(l)\n",
    "n"
   ]
  },
  {
   "cell_type": "markdown",
   "id": "718ca190",
   "metadata": {},
   "source": [
    "### 9) Give an example of mulitple statement in a single line"
   ]
  },
  {
   "cell_type": "code",
   "execution_count": null,
   "id": "08b01d13",
   "metadata": {},
   "outputs": [],
   "source": []
  },
  {
   "cell_type": "code",
   "execution_count": 13,
   "id": "0f774ede",
   "metadata": {},
   "outputs": [
    {
     "name": "stdout",
     "output_type": "stream",
     "text": [
      "20\n",
      "10\n",
      "40\n"
     ]
    }
   ],
   "source": [
    "print(4*5);print(2*5);print(8*5)"
   ]
  },
  {
   "cell_type": "markdown",
   "id": "88b31105",
   "metadata": {},
   "source": [
    "### 10) Give an example of single line statement in multiple line"
   ]
  },
  {
   "cell_type": "code",
   "execution_count": 14,
   "id": "fb17d097",
   "metadata": {},
   "outputs": [
    {
     "data": {
      "text/plain": [
       "42"
      ]
     },
     "execution_count": 14,
     "metadata": {},
     "output_type": "execute_result"
    }
   ],
   "source": [
    "2\\\n",
    "*10\\\n",
    "+2\\\n",
    "*10\\\n",
    "+2\n"
   ]
  },
  {
   "cell_type": "code",
   "execution_count": 15,
   "id": "ef271816",
   "metadata": {},
   "outputs": [
    {
     "name": "stdout",
     "output_type": "stream",
     "text": [
      "enter the marks:85\n",
      "B grade\n"
     ]
    }
   ],
   "source": [
    "marks=int(input(\"enter the marks:\"))\n",
    "if marks>90:\n",
    "    print(\"A grade\")\n",
    "elif marks>80 and marks<=90:\n",
    "    print(\"B grade\")\n",
    "elif marks>=60 and marks<=80:\n",
    "    print(\"C grade\")\n",
    "elif marks<=60:\n",
    "    print(\"D grade\")"
   ]
  },
  {
   "cell_type": "code",
   "execution_count": 16,
   "id": "227a14dd",
   "metadata": {},
   "outputs": [
    {
     "name": "stdout",
     "output_type": "stream",
     "text": [
      "enter the price of the bike60000\n",
      "6000.0\n"
     ]
    }
   ],
   "source": [
    "x=int(input(\"enter the price of the bike\"))\n",
    "if x>100000:\n",
    "    print(x*15/100)\n",
    "elif x>50000 and x<=100000:\n",
    "    print(x*10/100)\n",
    "elif x<50000:\n",
    "    print(x*5/100)"
   ]
  },
  {
   "cell_type": "code",
   "execution_count": 17,
   "id": "e7878650",
   "metadata": {},
   "outputs": [
    {
     "name": "stdout",
     "output_type": "stream",
     "text": [
      "enter your age26\n",
      "your are eligible for vote\n"
     ]
    }
   ],
   "source": [
    "x=int(input(\"enter your age\"))\n",
    "if x>=18:\n",
    "    print(\"your are eligible for vote\")\n",
    "else:\n",
    "    print(\"you are not eligible\")"
   ]
  },
  {
   "cell_type": "code",
   "execution_count": 18,
   "id": "b38a2c9e",
   "metadata": {},
   "outputs": [
    {
     "name": "stdout",
     "output_type": "stream",
     "text": [
      "enter the number45\n",
      "the number is odd\n"
     ]
    }
   ],
   "source": [
    "x=int(input(\"enter the number\"))\n",
    "if x%2==0:\n",
    "    print(\"the number is even\")\n",
    "else:\n",
    "    print(\"the number is odd\")"
   ]
  },
  {
   "cell_type": "code",
   "execution_count": 19,
   "id": "d4b76276",
   "metadata": {},
   "outputs": [
    {
     "name": "stdout",
     "output_type": "stream",
     "text": [
      "enter the number45\n",
      "it is not divisible\n"
     ]
    }
   ],
   "source": [
    "x=int(input(\"enter the number\"))\n",
    "if x%7==0:\n",
    "    print(\"it is divisible\")\n",
    "else:\n",
    "    print(\"it is not divisible\")\n",
    "    "
   ]
  },
  {
   "cell_type": "code",
   "execution_count": 20,
   "id": "775ffdbe",
   "metadata": {},
   "outputs": [
    {
     "name": "stdout",
     "output_type": "stream",
     "text": [
      "enter the number of units350\n",
      "2000\n"
     ]
    }
   ],
   "source": [
    "num=int(input(\"enter the number of units\"))\n",
    "if num<=100:\n",
    "    print(\"no charge\")\n",
    "elif num>=100 and num<=200:\n",
    "    print(num-100)*5\n",
    "elif num>200:\n",
    "    print(500+(num-200)*10)\n",
    "    "
   ]
  },
  {
   "cell_type": "code",
   "execution_count": null,
   "id": "1cd5279d",
   "metadata": {},
   "outputs": [],
   "source": []
  },
  {
   "cell_type": "code",
   "execution_count": null,
   "id": "dc09809b",
   "metadata": {},
   "outputs": [],
   "source": []
  },
  {
   "cell_type": "code",
   "execution_count": null,
   "id": "22d5eaa0",
   "metadata": {},
   "outputs": [],
   "source": []
  }
 ],
 "metadata": {
  "kernelspec": {
   "display_name": "Python 3 (ipykernel)",
   "language": "python",
   "name": "python3"
  },
  "language_info": {
   "codemirror_mode": {
    "name": "ipython",
    "version": 3
   },
   "file_extension": ".py",
   "mimetype": "text/x-python",
   "name": "python",
   "nbconvert_exporter": "python",
   "pygments_lexer": "ipython3",
   "version": "3.9.12"
  }
 },
 "nbformat": 4,
 "nbformat_minor": 5
}
